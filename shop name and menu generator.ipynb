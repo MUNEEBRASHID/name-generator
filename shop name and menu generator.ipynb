{
 "cells": [
  {
   "cell_type": "code",
   "execution_count": null,
   "id": "8c303618",
   "metadata": {},
   "outputs": [],
   "source": [
    "import os\n",
    "import openai\n",
    "import langchain\n",
    "from langchain.chains import SequentialChain,SimpleSequentialChain,LLMChain\n",
    "\n",
    "from langchain.agents import AgentType, initialize_agent, load_tools\n",
    "from langchain.prompts import PromptTemplate, ChatPromptTemplate\n",
    "\n",
    "from langchain.chat_models import ChatOpenAI\n",
    "\n",
    "from dotenv import load_dotenv, find_dotenv\n",
    "_=load_dotenv(find_dotenv())\n",
    "openai.api_key=os.environ['OPENAI_API_KEY']"
   ]
  },
  {
   "cell_type": "code",
   "execution_count": null,
   "id": "af5d9c40",
   "metadata": {},
   "outputs": [],
   "source": []
  },
  {
   "cell_type": "code",
   "execution_count": null,
   "id": "1d065352",
   "metadata": {},
   "outputs": [],
   "source": [
    "from langchain.llms import OpenAI\n",
    "llm=OpenAI(temperature=0.6)"
   ]
  },
  {
   "cell_type": "code",
   "execution_count": null,
   "id": "53833213",
   "metadata": {},
   "outputs": [],
   "source": []
  },
  {
   "cell_type": "code",
   "execution_count": null,
   "id": "0f545c81",
   "metadata": {},
   "outputs": [],
   "source": [
    "prompt=PromptTemplate.from_template(\"I want to open a Bakery cum cookie shop, suggest me a {name}\")\n",
    "llm=OpenAI(temperature=0.3)\n",
    "chain=LLMChain(llm=llm,prompt=prompt)\n",
    "#output=chain.run('name')\n",
    "#print(output)\n",
    "\n",
    "\n",
    "#llm to get comma separated names of items\n",
    "prompt1=PromptTemplate.from_template(\"For the shop suggest 25 {Items} to be put on the menu card, you are given the Weight of {Items}\")\n",
    "llm=OpenAI(temperature=0.6)\n",
    "chain1=LLMChain(llm=llm,prompt=prompt1)\n",
    "#output1=chain.run('Items')\n",
    "#print(output1)\n",
    "\n",
    "\n",
    "\n",
    "over_all=SimpleSequentialChain(chains=[chain,chain1],\n",
    "                              verbose=True)\n",
    "\n",
    "over_all.run(\"Bakery\")\n",
    "\n",
    "\n",
    "\n"
   ]
  }
 ],
 "metadata": {
  "kernelspec": {
   "display_name": "Python 3 (ipykernel)",
   "language": "python",
   "name": "python3"
  },
  "language_info": {
   "codemirror_mode": {
    "name": "ipython",
    "version": 3
   },
   "file_extension": ".py",
   "mimetype": "text/x-python",
   "name": "python",
   "nbconvert_exporter": "python",
   "pygments_lexer": "ipython3",
   "version": "3.9.12"
  }
 },
 "nbformat": 4,
 "nbformat_minor": 5
}
